{
 "cells": [
  {
   "cell_type": "code",
   "execution_count": 10,
   "metadata": {},
   "outputs": [],
   "source": [
    "import tweepy"
   ]
  },
  {
   "cell_type": "code",
   "execution_count": 23,
   "metadata": {},
   "outputs": [],
   "source": [
    "with open('keys','r') as key_file:\n",
    "    key = key_file.readline().strip()\n",
    "    secret = key_file.readline().strip()\n",
    "    bearer = key_file.readline().strip()\n",
    "\n",
    "client = tweepy.Client(bearer)"
   ]
  },
  {
   "cell_type": "code",
   "execution_count": null,
   "metadata": {},
   "outputs": [],
   "source": []
  },
  {
   "cell_type": "code",
   "execution_count": 27,
   "metadata": {},
   "outputs": [],
   "source": [
    "query = 'paredes de coura'\n",
    "\n",
    "count = 10\n",
    "\n",
    "s = client.search_recent_tweets(query=query)"
   ]
  },
  {
   "cell_type": "code",
   "execution_count": 29,
   "metadata": {},
   "outputs": [
    {
     "data": {
      "text/plain": [
       "Response(data=[<Tweet id=1584514583636500480 text='se calhar deixar a pulseira do paredes de coura no pulso é estúpido porque cozinhei e reparei agora cheira a fritos hmm que bom'>, <Tweet id=1584307506738008064 text='@vascossilva2 Eu com o Paredes de coura 😭😭'>, <Tweet id=1584240550617964544 text='@martaa_scm Vai ter mais sorte no paredes de coura'>, <Tweet id=1583826889650896896 text='RT @OhmSweetOhm: Convidem lá The Ginskeys para irem tocar ao Paredes De Coura de 2023  👉👈'>, <Tweet id=1583824851344961537 text='Convidem lá The Ginskeys para irem tocar ao Paredes De Coura de 2023  👉👈'>, <Tweet id=1583776503267209217 text='RT @tudosedesmonta: paredes de coura 2023 assim será'>, <Tweet id=1583515472871718912 text=\"RT @pedro_noodles: 1 minuto de paredes de coura '22💜 https://t.co/7J1EhDeuIk\">, <Tweet id=1583515371415293952 text=\"RT @pedro_noodles: 1 minuto de paredes de coura '22💜 https://t.co/7J1EhDeuIk\">, <Tweet id=1583471047558692864 text='@ParedesCoura  recebe OGRE electric de Maria João ⬇️\\nhttps://t.co/Lm79PZHwBC \\n#paredesdecoura #cultura #lercinema #musica #OGRE #mariajoao'>, <Tweet id=1583458203802931201 text='paredes de Coura rendeu duas multa 260€, mto que bem'>], includes={}, errors=[], meta={'newest_id': '1584514583636500480', 'oldest_id': '1583458203802931201', 'result_count': 10, 'next_token': 'b26v89c19zqg8o3fpzekpfwe7f0t6vfwsbdooqp137vct'})"
      ]
     },
     "execution_count": 29,
     "metadata": {},
     "output_type": "execute_result"
    }
   ],
   "source": [
    "s"
   ]
  },
  {
   "cell_type": "code",
   "execution_count": 30,
   "metadata": {},
   "outputs": [
    {
     "name": "stdout",
     "output_type": "stream",
     "text": [
      "se calhar deixar a pulseira do paredes de coura no pulso é estúpido porque cozinhei e reparei agora cheira a fritos hmm que bom\n",
      "@vascossilva2 Eu com o Paredes de coura 😭😭\n",
      "@martaa_scm Vai ter mais sorte no paredes de coura\n",
      "RT @OhmSweetOhm: Convidem lá The Ginskeys para irem tocar ao Paredes De Coura de 2023  👉👈\n",
      "Convidem lá The Ginskeys para irem tocar ao Paredes De Coura de 2023  👉👈\n",
      "RT @tudosedesmonta: paredes de coura 2023 assim será\n",
      "RT @pedro_noodles: 1 minuto de paredes de coura '22💜 https://t.co/7J1EhDeuIk\n",
      "RT @pedro_noodles: 1 minuto de paredes de coura '22💜 https://t.co/7J1EhDeuIk\n",
      "@ParedesCoura  recebe OGRE electric de Maria João ⬇️\n",
      "https://t.co/Lm79PZHwBC \n",
      "#paredesdecoura #cultura #lercinema #musica #OGRE #mariajoao\n",
      "paredes de Coura rendeu duas multa 260€, mto que bem\n"
     ]
    }
   ],
   "source": [
    "for t in s.data:\n",
    "    print(t)"
   ]
  },
  {
   "cell_type": "markdown",
   "metadata": {},
   "source": [
    "##### "
   ]
  }
 ],
 "metadata": {
  "kernelspec": {
   "display_name": "Python 3.9.12 ('base')",
   "language": "python",
   "name": "python3"
  },
  "language_info": {
   "codemirror_mode": {
    "name": "ipython",
    "version": 3
   },
   "file_extension": ".py",
   "mimetype": "text/x-python",
   "name": "python",
   "nbconvert_exporter": "python",
   "pygments_lexer": "ipython3",
   "version": "3.9.12"
  },
  "orig_nbformat": 4,
  "vscode": {
   "interpreter": {
    "hash": "8d0e0863b4dbc785a2b1bd227b176323538a9cabeeaebcabf04a1216aba68dd7"
   }
  }
 },
 "nbformat": 4,
 "nbformat_minor": 2
}
